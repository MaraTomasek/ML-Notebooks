{
 "cells": [
  {
   "cell_type": "markdown",
   "metadata": {},
   "source": [
    "# 9. On Policy Prediction with Approximation\n",
    "## CartPole-v0"
   ]
  },
  {
   "cell_type": "markdown",
   "metadata": {},
   "source": [
    "### Overview:\n",
    "[CartPole-v0](https://github.com/openai/gym/wiki/CartPole-v0)\n",
    "A pole is attached by an un-actuated joint to a cart, which moves along a frictionless track. The pendulum starts upright, and the goal is to prevent it from falling over by increasing and reducing the cart's velocity.\n",
    "\n",
    "### State (Observation)\n",
    "| num | observation          | min      | max     |\n",
    "|----:|:---------------------|---------:|--------:|\n",
    "| 0   | Cart Position        | -2.4     | 2.4     |\n",
    "| 1   | Cart Velocity        | -Inf     | Inf     |\n",
    "| 2   | Pole Angle           | ~ -41.8° | ~ 41.8° |\n",
    "| 3   | Pole Velocity at Tip | -Inf     | Inf     |\n",
    "\n",
    "### Action\n",
    "| num | action          | \n",
    "|----:|:----------------|\n",
    "| 0   | Push cart left  |\n",
    "| 1   | Push cart right |\n",
    "\n",
    "### Reward\n",
    "1 for every step, including termination. <br />\n",
    "\n",
    "### Termination\n",
    "* Pole angle more than ±12°\n",
    "* Cart Position more than ±2.4\n",
    "* Episode length > 200\n",
    "\n",
    "### Solved\n",
    "Average reward ≥195.0 over 100 episodes"
   ]
  },
  {
   "cell_type": "markdown",
   "metadata": {},
   "source": [
    "### ..."
   ]
  },
  {
   "cell_type": "code",
   "execution_count": null,
   "metadata": {},
   "outputs": [],
   "source": [
    "import gym\n",
    "import numpy as np\n",
    "import tensorflow as tf\n",
    "import matplotlib.pyplot as plt"
   ]
  },
  {
   "cell_type": "code",
   "execution_count": null,
   "metadata": {},
   "outputs": [],
   "source": [
    "env = gym.make(\"CartPole-v0\")\n",
    "env.seed(0)"
   ]
  },
  {
   "cell_type": "code",
   "execution_count": null,
   "metadata": {},
   "outputs": [],
   "source": [
    "def run_episode(render=False, gamma=0.99):\n",
    "    states             = []\n",
    "    actions            = []\n",
    "    raw_reward         = 0\n",
    "    discounted_reward  = 0\n",
    "    cumulative_rewards = []\n",
    "    discount_factor    = 1.0\n",
    "    episode_length     = 200\n",
    "    \n",
    "    observation = env.reset()\n",
    "    for t in range(episode_length):\n",
    "        cumulative_reward.append(discounted_reward)\n",
    "        \n",
    "        if render:\n",
    "            env.render()\n",
    "        action = policy()\n",
    "        \n",
    "        # Recording \n",
    "        states.append(observation)\n",
    "        actions.append(action)\n",
    "        \n",
    "        # Step\n",
    "        observation, reward, done, _ = env.step(action)\n",
    "        \n",
    "        # Reward handling\n",
    "        raw_reward        += reward\n",
    "        discounted_reward += reward * discount_factor\n",
    "        discount_factor   *= gamma\n",
    "        \n",
    "        if done:\n",
    "            env.close()\n",
    "            return raw_reward, discounted_reward, cumulative_reward, states, actions"
   ]
  }
 ],
 "metadata": {
  "kernelspec": {
   "display_name": "Python 3",
   "language": "python",
   "name": "python3"
  },
  "language_info": {
   "codemirror_mode": {
    "name": "ipython",
    "version": 3
   },
   "file_extension": ".py",
   "mimetype": "text/x-python",
   "name": "python",
   "nbconvert_exporter": "python",
   "pygments_lexer": "ipython3",
   "version": "3.8.2"
  }
 },
 "nbformat": 4,
 "nbformat_minor": 4
}
