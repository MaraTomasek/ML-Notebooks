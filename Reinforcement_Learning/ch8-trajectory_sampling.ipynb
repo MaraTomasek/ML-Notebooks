{
 "cells": [
  {
   "cell_type": "markdown",
   "metadata": {},
   "source": [
    "# Ex8.8 Trajectory Sampling Exercise\n",
    "\n",
    "## 0. Problem Definitions"
   ]
  },
  {
   "cell_type": "markdown",
   "metadata": {},
   "source": [
    "* undiscounted episodic tasks\n",
    "* 2 actions from each state, each resulting in one of $b$ states, all equally likely\n",
    "* different random selection of $b$ states for each state-action pair\n",
    "* for each transition theres a $0.1$ chance of entering a terminal state\n",
    "* expected reward for each transition sampled from $\\mathcal{N}(0,1)$"
   ]
  },
  {
   "cell_type": "markdown",
   "metadata": {},
   "source": [
    "## 1. Environment"
   ]
  },
  {
   "cell_type": "code",
   "execution_count": 2,
   "metadata": {},
   "outputs": [],
   "source": [
    "import numpy as np\n",
    "import random as rd\n",
    "import matplotlib.pyplot as plt"
   ]
  },
  {
   "cell_type": "code",
   "execution_count": 4,
   "metadata": {},
   "outputs": [],
   "source": [
    "class Environment:\n",
    "    def __init__(self, n, act, b):\n",
    "        self.states  = n\n",
    "        self.actions = a\n",
    "        self.branch  = b\n",
    "        \n",
    "        self.build_transition_graph()\n",
    "        \n",
    "    def build_transition_graph(self):\n",
    "        '''build neighbors for each state randomly'''\n",
    "        self.trans = np.random.randint(self.states, size=(self.states, self.actions, self.branch))\n",
    "    \n",
    "    def get_reward(self):\n",
    "        '''Returns reward as defined'''\n",
    "        return np.random.normal()\n",
    "\n",
    "    def is_done(self):\n",
    "        '''Call to determine if move is terminal'''\n",
    "        return np.random.rand() < 0.1"
   ]
  },
  {
   "cell_type": "markdown",
   "metadata": {},
   "source": [
    "## 2. One Step Tabular Planning"
   ]
  },
  {
   "cell_type": "code",
   "execution_count": null,
   "metadata": {},
   "outputs": [],
   "source": [
    "class TabularPlanning:\n",
    "    \n",
    "    def __init__(self, environment, alpha, gamma):\n",
    "        self.env   = environment\n",
    "        self.alpha = alpha\n",
    "        self.gamma = gamma\n",
    "        ...\n",
    "        \n",
    "    def reset(self):\n",
    "        self.Q = np.zeros((self.env.states, self.env.act))\n",
    "        \n",
    "    def train_uniform(self):\n",
    "        for s in range(self.env.states):\n",
    "            for a in range(self.env.act):\n",
    "                self.update_q(s, a, self.env.get_reward())\n",
    "        \n",
    "    def update_q(self, S, A, R, Sn):\n",
    "        Am   = np.argmax(self.Q[Sn])\n",
    "        idx  = (S[0],  S[1],  A)\n",
    "        idxn = (Sn[0], Sn[1], Am)\n",
    "        self.Q[idx] += alpha * (R * gamma * self.Q[idxn] - self.Q[idx])\n",
    "        "
   ]
  },
  {
   "cell_type": "code",
   "execution_count": null,
   "metadata": {},
   "outputs": [],
   "source": []
  }
 ],
 "metadata": {
  "kernelspec": {
   "display_name": "Python 3",
   "language": "python",
   "name": "python3"
  },
  "language_info": {
   "codemirror_mode": {
    "name": "ipython",
    "version": 3
   },
   "file_extension": ".py",
   "mimetype": "text/x-python",
   "name": "python",
   "nbconvert_exporter": "python",
   "pygments_lexer": "ipython3",
   "version": "3.8.2"
  }
 },
 "nbformat": 4,
 "nbformat_minor": 4
}
