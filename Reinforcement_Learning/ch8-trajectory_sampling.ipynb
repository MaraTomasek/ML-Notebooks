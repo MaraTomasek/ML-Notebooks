{
 "cells": [
  {
   "cell_type": "markdown",
   "metadata": {},
   "source": [
    "* undiscounted episodic tasks\n",
    "* 2 actions from each state, each resulting in one of $b$ states, all equally likely\n",
    "* different random selection of $b$ states for each state-action pair\n",
    "* for each transition theres a $0.1$ chance of entering a terminal state\n",
    "* expected reward for each transition sampled from $\\mathcal{N}(0,1)$"
   ]
  },
  {
   "cell_type": "code",
   "execution_count": 2,
   "metadata": {},
   "outputs": [],
   "source": [
    "import numpy as np\n",
    "import random as rd\n",
    "import matplotlib.pyplot as plt"
   ]
  },
  {
   "cell_type": "code",
   "execution_count": 3,
   "metadata": {},
   "outputs": [],
   "source": [
    "class Environment:\n",
    "    def __init__(self, n, b):\n",
    "        self.states = n\n",
    "        self.branch = b\n",
    "        \n",
    "        self.build_transition_graph()\n",
    "        \n",
    "    def build_transition_graph(self):\n",
    "        '''build neighbors for each state randomly'''\n",
    "        self.trans  = np.zeros((self.states, self.branch), dtype=int)\n",
    "        \n",
    "        for n in range(self.states):\n",
    "            for b in range(self.branch):\n",
    "                self.trans[n, b] = np.random.randint(n)\n",
    "                \n",
    "    def is_terminal(self):\n",
    "        '''Call to determine if move is terminal'''\n",
    "        return np.random.rand() < 0.1\n",
    "    \n",
    "    def get_reward(self):\n",
    "        '''Returns reward as defined'''\n",
    "        return np.random.normal()"
   ]
  }
 ],
 "metadata": {
  "kernelspec": {
   "display_name": "Python 3",
   "language": "python",
   "name": "python3"
  },
  "language_info": {
   "codemirror_mode": {
    "name": "ipython",
    "version": 3
   },
   "file_extension": ".py",
   "mimetype": "text/x-python",
   "name": "python",
   "nbconvert_exporter": "python",
   "pygments_lexer": "ipython3",
   "version": "3.8.2"
  }
 },
 "nbformat": 4,
 "nbformat_minor": 4
}
