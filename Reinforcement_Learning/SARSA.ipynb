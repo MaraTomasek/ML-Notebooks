{
 "cells": [
  {
   "cell_type": "markdown",
   "metadata": {},
   "source": [
    "# Ex6.9: Windy Grid-World with Kings moves using SARSA on-Policy Control"
   ]
  },
  {
   "cell_type": "markdown",
   "metadata": {},
   "source": [
    "![Bild](ex65.png)"
   ]
  },
  {
   "cell_type": "markdown",
   "metadata": {},
   "source": [
    "Re-solve the windy grid-world assuming eight possible actions, including the diagonal moves, rather than four. How much better can you do with the extra actions? Can you do even better by including a ninth action that causes no movement at all other than that caused by the wind?"
   ]
  },
  {
   "cell_type": "markdown",
   "metadata": {},
   "source": [
    "# Ex6.10: Stochastic Wind\n",
    "\n",
    "Re-solve the windy grid-world task with King’s moves, assuming that the effect of the wind, if there is any, is stochastic, sometimes varying by 1 from the mean values given for each column. That is, a third of the time you move exactly according to these values, as in the previous exercise, but also a third of the time you move one cell above that, and another third of the time you move one cell below that. For example, if you are one cell to the right of the goal and you move left, then one-third of the time you move one cell above the goal, one-third of the time you move two cells above the goal, and one-third of the time you move to the goal"
   ]
  },
  {
   "cell_type": "code",
   "execution_count": 1,
   "metadata": {},
   "outputs": [],
   "source": [
    "import time\n",
    "import numpy as np\n",
    "import matplotlib.pyplot as plt"
   ]
  },
  {
   "cell_type": "markdown",
   "metadata": {},
   "source": [
    "## Defining the environment"
   ]
  },
  {
   "cell_type": "code",
   "execution_count": 2,
   "metadata": {},
   "outputs": [],
   "source": [
    "class Grid:\n",
    "    '''Class defining the environment'''\n",
    "    \n",
    "    def __init__(self, shapex, shapey, wind, start, goal):\n",
    "        self.shapex = shapex\n",
    "        self.shapey = shapey\n",
    "        self.wind   = wind\n",
    "        self.start  = start\n",
    "        self.goal   = goal\n",
    "    \n",
    "    def get_wind(self, pos):\n",
    "        '''pos : tuple(int, int) : position on grid'''\n",
    "        return self.wind[pos[1]]\n",
    "    \n",
    "    def set_start(self, pos):\n",
    "        '''pos : tuple(int, int) : position of new start'''\n",
    "        self.start = pos\n",
    "        \n",
    "    def set_goal(self, pos):\n",
    "        '''pos : tuple(int, int) : position of new goal'''\n",
    "        self.goal = pos\n",
    "    \n",
    "    def is_in_grid(self, pos):\n",
    "        '''pos : tuple(int, int) : position on grid'''\n",
    "        return ((0 <= pos[0] < self.shapex) and (0 <= pos[1] < self.shapey))\n",
    "    \n",
    "    def show_path(self, path):\n",
    "        '''path : list(tuple(int, int)) : List of legal moves'''\n",
    "        \n",
    "        length    = len(path)\n",
    "        grid      = np.full((self.shapex, self.shapey), -0.1)\n",
    "        fade      = np.linspace(0.1, 1, num=length)\n",
    "        \n",
    "        pos       = self.start\n",
    "        grid[pos] = 0\n",
    "        \n",
    "        for i in range(length):\n",
    "            pos       = move(self, pos, path[i])\n",
    "            grid[pos] = fade[i]\n",
    "            \n",
    "        grid[self.goal] = 1\n",
    "        \n",
    "        plt.imshow(grid)"
   ]
  },
  {
   "cell_type": "code",
   "execution_count": 3,
   "metadata": {},
   "outputs": [],
   "source": [
    "height = 7\n",
    "width  = 10\n",
    "start  = (3, 0)\n",
    "goal   = (3, 7)\n",
    "wind   = [0, 0, 0, 1, 1, 1, 2, 2, 1, 0]\n",
    "grid   = Grid(height, width, wind, start, goal)"
   ]
  },
  {
   "cell_type": "markdown",
   "metadata": {},
   "source": [
    "## Setting up"
   ]
  },
  {
   "cell_type": "code",
   "execution_count": 4,
   "metadata": {},
   "outputs": [],
   "source": [
    "king_moves      = [(-1, -1), (-1, 0), (-1, 1), (0, -1), (0, 1), (1, -1), (1, 0), (1, 1)]\n",
    "king_moves_noop = [(-1, -1), (-1, 0), (-1, 1), (0, -1), (0, 1), (1, -1), (1, 0), (1, 1), (0, 0)]\n",
    "compass_moves   = [(-1, 0), (0, -1), (0, 1), (1, 0)]\n",
    "\n",
    "stochastic_wind = False\n",
    "moves           = []\n",
    "move_idx        = 0"
   ]
  },
  {
   "cell_type": "code",
   "execution_count": 5,
   "metadata": {},
   "outputs": [],
   "source": [
    "def setup(move_type, stochastic=False):\n",
    "    '''\n",
    "    move_type  : list(tuple(int, int)) : List of available moves\n",
    "    stochastic : bool                  : Decides if wind should be stochastic\n",
    "    \n",
    "    Sets up environment before calling sarsa(...)\n",
    "    '''\n",
    "    \n",
    "    global moves, stochastic_wind, move_idx\n",
    "    \n",
    "    moves           = move_type\n",
    "    move_idx        = {moves[i] : i for i in range(len(moves))}\n",
    "    stochastic_wind = stochastic"
   ]
  },
  {
   "cell_type": "code",
   "execution_count": 6,
   "metadata": {},
   "outputs": [],
   "source": [
    "def move(grid, pos, act):\n",
    "    '''\n",
    "    grid : Grid            : Current environment\n",
    "    pos  : tuple(int, int) : Current position\n",
    "    act  : tuple(int, int) : Legal move\n",
    "    \n",
    "    Moves to position if we're in pos and take act \n",
    "    \n",
    "         : tuple(int, int) : New position\n",
    "    '''\n",
    "    \n",
    "    global stochastic_wind    \n",
    "    \n",
    "    x_pos      = pos[0]\n",
    "    y_pos      = pos[1]\n",
    "    wind_move  = grid.get_wind(pos)\n",
    "    \n",
    "    if stochastic_wind and wind_move > 0:\n",
    "        r = np.random.randint(3)\n",
    "        \n",
    "        if r == 1:\n",
    "            wind_move += 1\n",
    "        elif r == 2:\n",
    "            wind_move -= 1\n",
    "    \n",
    "    x_move = act[0] - wind_move\n",
    "    y_move = act[1]\n",
    "    \n",
    "    x_pos += x_move\n",
    "    y_pos += y_move\n",
    "    \n",
    "    # Clamp values to grid-shape\n",
    "    x_pos  = max(0, min(grid.shapex - 1, x_pos))\n",
    "    y_pos  = max(0, min(grid.shapey - 1, y_pos))\n",
    "    \n",
    "    newpos = (int(x_pos), int(y_pos))\n",
    "\n",
    "    return newpos"
   ]
  },
  {
   "cell_type": "code",
   "execution_count": 7,
   "metadata": {},
   "outputs": [],
   "source": [
    "def epsilon_greedy_policy(Q, pos, epsilon=0.1):\n",
    "    '''    \n",
    "    Q       : np.array(int, int, int) : State-Action values\n",
    "    pos     : tuple(int, int)         : Current position\n",
    "    epsilon : float in (0, 1)         : Parameter for epsilon-greedy policy\n",
    "    \n",
    "    Exploratory policy we use to learn Q\n",
    "    \n",
    "    act     : tuple(int, int)         : Legal move\n",
    "    '''\n",
    "    \n",
    "    global moves\n",
    "    \n",
    "    act_i = None\n",
    "    r     = np.random.rand()\n",
    "    \n",
    "    if r > epsilon:\n",
    "        act_i = np.argmax(Q[pos])\n",
    "    else:\n",
    "        act_i = np.random.choice(len(moves))\n",
    "        \n",
    "    return moves[act_i]"
   ]
  },
  {
   "cell_type": "markdown",
   "metadata": {},
   "source": [
    "## SARSA"
   ]
  },
  {
   "cell_type": "code",
   "execution_count": 8,
   "metadata": {},
   "outputs": [],
   "source": [
    "def sarsa(grid, episodes, alpha=0.1, epsilon=0.3, gamma=1):\n",
    "    '''\n",
    "    grid    : Grid                    : Current environment\n",
    "    alpha   : float in (0, 1]         : Learning rate\n",
    "    epsilon : float in (0, 1)         : Parameter for epsilon-greedy policy\n",
    "    gamma   : float in [0, 1]         : Discount Parameter\n",
    "    \n",
    "    SARSA On-Policy TD Control Algorithm\n",
    "    \n",
    "    Q       : np.array(int, int, int) : State-Action values\n",
    "    '''\n",
    "    \n",
    "    global moves, move_idx\n",
    "    \n",
    "    # --- Setup\n",
    "    possible_moves = len(moves) # King moves: 8\n",
    "    Q              = np.random.rand(grid.shapex, grid.shapey, possible_moves)\n",
    "    Q[grid.goal]   = 0 # Goal has to be zero\n",
    "    steps_taken    = np.zeros(episodes)\n",
    "    \n",
    "    # --- Episode Loop\n",
    "    for episode in range(episodes):\n",
    "        \n",
    "        S = grid.start\n",
    "        A = epsilon_greedy_policy(Q, S, epsilon=epsilon)\n",
    "        \n",
    "        while S != grid.goal:\n",
    "            Sn      = move(grid, S, A)\n",
    "            An      = epsilon_greedy_policy(Q, Sn, epsilon=epsilon)\n",
    "            R       = 0 if (Sn == grid.goal) else -1\n",
    "            \n",
    "            idx     = (S[0],  S[1],  move_idx[A])\n",
    "            idxn    = (Sn[0], Sn[1], move_idx[An])\n",
    "            Q[idx] += alpha * (R + gamma * Q[idxn] - Q[idx])\n",
    "            \n",
    "            S       = Sn\n",
    "            A       = An\n",
    "            steps_taken[episode] += 1\n",
    "        \n",
    "    return Q, steps_taken"
   ]
  },
  {
   "cell_type": "code",
   "execution_count": 9,
   "metadata": {},
   "outputs": [],
   "source": [
    "def trace(grid, Q):\n",
    "    '''\n",
    "    grid    : Grid                    : Current environment\n",
    "    Q       : np.array(int, int, int) : State-Action values\n",
    "    \n",
    "    Records Greedy Path from grid-start\n",
    "    \n",
    "    path    : list(tuple(int, int))   : Actions taken until termination\n",
    "    '''\n",
    "    \n",
    "    global moves\n",
    "    \n",
    "    S = grid.start\n",
    "    A = moves[np.argmax(Q[S])]\n",
    "    path = []\n",
    "    \n",
    "    while S != grid.goal:\n",
    "        path.append(A)\n",
    "        Sn = move(grid, S, A)\n",
    "        An = moves[np.argmax(Q[Sn])]\n",
    "        S  = Sn\n",
    "        A  = An\n",
    "    \n",
    "    return path"
   ]
  },
  {
   "cell_type": "markdown",
   "metadata": {},
   "source": [
    "## Result for King Moves after 8000 episodes\n",
    "Learns a optimal path with length of 7 or 8"
   ]
  },
  {
   "cell_type": "code",
   "execution_count": 10,
   "metadata": {
    "scrolled": false
   },
   "outputs": [
    {
     "name": "stdout",
     "output_type": "stream",
     "text": [
      "Total Reward: -7\n",
      "[(1, 1), (1, 1), (1, 1), (0, 1), (1, 1), (1, 1), (0, 1)]\n"
     ]
    },
    {
     "data": {
      "image/png": "[encoded data removed]",
      "text/plain": [
       "<Figure size 432x288 with 1 Axes>"
      ]
     },
     "metadata": {
      "needs_background": "light"
     },
     "output_type": "display_data"
    }
   ],
   "source": [
    "setup(king_moves, stochastic=False)\n",
    "Q_k, s = sarsa(grid, 8000)\n",
    "path   = trace(grid, Q_k)\n",
    "grid.show_path(path)\n",
    "print(f\"Total Reward: {-len(path)}\")\n",
    "print(path)"
   ]
  },
  {
   "cell_type": "markdown",
   "metadata": {},
   "source": [
    "This plot shows a real fast convergence to good values"
   ]
  },
  {
   "cell_type": "code",
   "execution_count": 11,
   "metadata": {
    "scrolled": true
   },
   "outputs": [
    {
     "data": {
      "image/png": "[encoded data removed]",
      "text/plain": [
       "<Figure size 432x288 with 1 Axes>"
      ]
     },
     "metadata": {
      "needs_background": "light"
     },
     "output_type": "display_data"
    }
   ],
   "source": [
    "plt.plot(np.arange(len(s)), s)\n",
    "plt.xlabel(\"episode\")\n",
    "plt.ylabel(\"steps taken\")\n",
    "plt.show()"
   ]
  },
  {
   "cell_type": "markdown",
   "metadata": {},
   "source": [
    "## Result for Compass Moves after 8000 episodes\n",
    "Learns a (optimal) path with length of 15"
   ]
  },
  {
   "cell_type": "code",
   "execution_count": 12,
   "metadata": {},
   "outputs": [
    {
     "name": "stdout",
     "output_type": "stream",
     "text": [
      "Total Reward: -15\n",
      "[(0, 1), (0, 1), (0, 1), (0, 1), (0, 1), (0, 1), (0, 1), (0, 1), (0, 1), (1, 0), (1, 0), (1, 0), (1, 0), (0, -1), (0, -1)]\n"
     ]
    },
    {
     "data": {
      "image/png": "[encoded data removed]",
      "text/plain": [
       "<Figure size 432x288 with 1 Axes>"
      ]
     },
     "metadata": {
      "needs_background": "light"
     },
     "output_type": "display_data"
    }
   ],
   "source": [
    "setup(compass_moves, stochastic=False)\n",
    "Q_c, _ = sarsa(grid, 8000)\n",
    "path   = trace(grid, Q_c)\n",
    "grid.show_path(path)\n",
    "print(f\"Total Reward: {-len(path)}\")\n",
    "print(path)"
   ]
  },
  {
   "cell_type": "markdown",
   "metadata": {},
   "source": [
    "## Result for King Moves after 8000 episodes + Stochastic Wind\n",
    "Gives different results each time due to stochasticity. They can get quite messy"
   ]
  },
  {
   "cell_type": "code",
   "execution_count": 13,
   "metadata": {
    "scrolled": true
   },
   "outputs": [
    {
     "name": "stdout",
     "output_type": "stream",
     "text": [
      "Total Reward: -7\n",
      "[(1, 1), (1, 1), (1, 1), (1, 1), (1, 1), (1, 1), (0, 1)]\n"
     ]
    },
    {
     "data": {
      "image/png": "[encoded data removed]",
      "text/plain": [
       "<Figure size 432x288 with 1 Axes>"
      ]
     },
     "metadata": {
      "needs_background": "light"
     },
     "output_type": "display_data"
    }
   ],
   "source": [
    "setup(king_moves, stochastic=True)\n",
    "Q_ks, _ = sarsa(grid, 8000)\n",
    "path    = trace(grid, Q_ks)\n",
    "grid.show_path(path)\n",
    "print(f\"Total Reward: {-len(path)}\")\n",
    "print(path)"
   ]
  },
  {
   "cell_type": "markdown",
   "metadata": {},
   "source": [
    "## Result for King Moves + No-op after 8000 episodes\n",
    "It doesn't get better if we include the no-op"
   ]
  },
  {
   "cell_type": "code",
   "execution_count": 14,
   "metadata": {},
   "outputs": [
    {
     "name": "stdout",
     "output_type": "stream",
     "text": [
      "Total Reward: -7\n",
      "[(1, 1), (1, 1), (1, 1), (1, 1), (1, 1), (1, 1), (-1, 1)]\n"
     ]
    },
    {
     "data": {
      "image/png": "[encoded data removed]",
      "text/plain": [
       "<Figure size 432x288 with 1 Axes>"
      ]
     },
     "metadata": {
      "needs_background": "light"
     },
     "output_type": "display_data"
    }
   ],
   "source": [
    "setup(king_moves_noop, stochastic=False)\n",
    "Q_kn, _ = sarsa(grid, 8000)\n",
    "path    = trace(grid, Q_kn)\n",
    "grid.show_path(path)\n",
    "print(f\"Total Reward: {-len(path)}\")\n",
    "print(path)"
   ]
  }
 ],
 "metadata": {
  "kernelspec": {
   "display_name": "Python 3",
   "language": "python",
   "name": "python3"
  },
  "language_info": {
   "codemirror_mode": {
    "name": "ipython",
    "version": 3
   },
   "file_extension": ".py",
   "mimetype": "text/x-python",
   "name": "python",
   "nbconvert_exporter": "python",
   "pygments_lexer": "ipython3",
   "version": "3.8.2"
  }
 },
 "nbformat": 4,
 "nbformat_minor": 4
}
