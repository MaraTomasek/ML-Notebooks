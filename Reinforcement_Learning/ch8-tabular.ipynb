{
 "cells": [
  {
   "cell_type": "markdown",
   "metadata": {},
   "source": [
    "# Environment"
   ]
  },
  {
   "cell_type": "code",
   "execution_count": 1,
   "metadata": {},
   "outputs": [],
   "source": [
    "import numpy as np\n",
    "import matplotlib.pyplot as plt\n",
    "import random"
   ]
  },
  {
   "cell_type": "code",
   "execution_count": 2,
   "metadata": {},
   "outputs": [],
   "source": [
    "class Maze:\n",
    "    '''Class defining the environment'''\n",
    "    def __init__(self, shapex, shapey, holes, start, goal):\n",
    "        self.shapex = shapex\n",
    "        self.shapey = shapey\n",
    "        self.walls  = walls\n",
    "        self.start  = start\n",
    "        self.goal   = goal\n",
    "        self.idx    = self.build_index()\n",
    "        self.size   = shapex * shapey\n",
    "        self.bitmap = self.build_bitmap()\n",
    "        \n",
    "    def state_from_index(self, number):\n",
    "        '''get state from index'''\n",
    "        x = number // self.shapey\n",
    "        y = number  % self.shapey\n",
    "        \n",
    "        return (x, y)\n",
    "        \n",
    "    def build_index(self):\n",
    "        '''build index for indexing states'''\n",
    "        return {(x, y) : self.shapey * x + y for x in range(self.shapex) \n",
    "                for y in range(self.shapey)}\n",
    "        \n",
    "    def build_bitmap(self):\n",
    "        '''builds the bitmap for visualisation'''\n",
    "        bitmap = np.ones((self.shapex, self.shapey))\n",
    "        \n",
    "        for wall in self.walls:\n",
    "            bitmap[wall] = 0\n",
    "        \n",
    "        return bitmap\n",
    "    \n",
    "    def show_bitmap(self):\n",
    "        '''shows the environment of holes and walkable path'''\n",
    "        \n",
    "        plt.imshow(self.bitmap)\n",
    "    \n",
    "    def show_path(self, path):\n",
    "        '''\n",
    "        path : list(tuple(int, int)) : sequence of states\n",
    "        \n",
    "        plots a given path onto the bitmap\n",
    "        '''\n",
    "        \n",
    "        c0 = 5\n",
    "        c1 = 6\n",
    "        \n",
    "        length    = len(path)\n",
    "        maze      = self.bitmap.copy()\n",
    "        fade      = np.linspace(c0, c1, num=length)\n",
    "        \n",
    "        for i in range(length):\n",
    "            maze[path[i]] = fade[i]\n",
    "            \n",
    "        maze[self.start] = c0\n",
    "        maze[self.goal]  = c1\n",
    "        \n",
    "        print(f\"path length: {len(path)}\")\n",
    "        plt.imshow(maze)"
   ]
  },
  {
   "cell_type": "code",
   "execution_count": 3,
   "metadata": {},
   "outputs": [
    {
     "data": {
      "image/png": "[encoded data removed]",
      "text/plain": [
       "<Figure size 432x288 with 1 Axes>"
      ]
     },
     "metadata": {
      "needs_background": "light"
     },
     "output_type": "display_data"
    }
   ],
   "source": [
    "shapex = 6\n",
    "shapey = 9\n",
    "start  = (2, 0)\n",
    "goal   = (0, 8)\n",
    "walls  = [(1, 2), (2, 2), (3, 2), (4, 5), (0, 7), (1, 7), (2, 7)]\n",
    "\n",
    "maze  = Maze(shapex, shapey, walls, start, goal)\n",
    "maze.show_bitmap()"
   ]
  },
  {
   "cell_type": "markdown",
   "metadata": {},
   "source": [
    "# Setup"
   ]
  },
  {
   "cell_type": "code",
   "execution_count": 4,
   "metadata": {},
   "outputs": [],
   "source": [
    "moves     = [(-1, 0), (0, -1), (0, 1), (1, 0)]\n",
    "move_idx  = {moves[i] : i for i in range(len(moves))}"
   ]
  },
  {
   "cell_type": "code",
   "execution_count": 5,
   "metadata": {},
   "outputs": [],
   "source": [
    "def move(maze, pos, act):\n",
    "    '''\n",
    "    maze   : Maze            : Environment\n",
    "    pos    : tuple(int, int) : Position in Environment\n",
    "    act    : tuple(int, int) : Move direction\n",
    "    \n",
    "    Move from pos in direction act\n",
    "    \n",
    "    newpos : tuple(int, int) : New position\n",
    "    '''\n",
    "    \n",
    "    oldpos = pos\n",
    "    \n",
    "    # Clamp values to map\n",
    "    x_pos  = int(max(0, min(maze.shapex - 1, pos[0] + act[0])))\n",
    "    y_pos  = int(max(0, min(maze.shapey - 1, pos[1] + act[1])))\n",
    "    newpos = (x_pos, y_pos)\n",
    "    \n",
    "    # Reset position if falling in hole\n",
    "    if newpos in maze.walls:\n",
    "        newpos = oldpos\n",
    "        \n",
    "    reward = 1 if newpos == maze.goal else 0\n",
    "    \n",
    "    return newpos, reward"
   ]
  },
  {
   "cell_type": "code",
   "execution_count": 6,
   "metadata": {},
   "outputs": [],
   "source": [
    "def epsilon_greedy_policy(Q, pos, epsilon=0.1):\n",
    "    '''\n",
    "    Q         : 3d np.array(), float : State-Action values\n",
    "    pos       : tuple(int, int)      : Position in Environment\n",
    "    epsilon   : float in [0, 1]      : Exploration / Exploitation Parameter\n",
    "    \n",
    "    Epsilon Greedy Policy. For a low epsilon value : high exploitation, low exploration\n",
    "    \n",
    "              : tuple(int, int)      : Decided Action according to policy\n",
    "    '''\n",
    "    \n",
    "    global moves\n",
    "    \n",
    "    act_i = None\n",
    "    r     = np.random.rand()\n",
    "        \n",
    "    if r > epsilon:\n",
    "        act_i = np.argmax(Q[pos])\n",
    "    else:\n",
    "        act_i = np.random.randint(len(moves))\n",
    "        \n",
    "    return moves[act_i]"
   ]
  },
  {
   "cell_type": "code",
   "execution_count": 7,
   "metadata": {},
   "outputs": [],
   "source": [
    "def trace(maze, Q):\n",
    "    global moves\n",
    "    \n",
    "    S = maze.start\n",
    "    A = moves[np.argmax(Q[S])]\n",
    "    path = []\n",
    "    \n",
    "    while S != maze.goal:\n",
    "        path.append(S)\n",
    "        Sn, _ = move(maze, S, A)\n",
    "        An    = moves[np.argmax(Q[Sn])]\n",
    "        S     = Sn\n",
    "        A     = An\n",
    "        \n",
    "        if Sn == maze.start or Sn in path:\n",
    "            print(\"State Values dont create greedy path\")\n",
    "            break\n",
    "    \n",
    "    return path"
   ]
  },
  {
   "cell_type": "markdown",
   "metadata": {},
   "source": [
    "# Dyna-Q\n",
    "`print()` statements left in to see if it gets stuck early on"
   ]
  },
  {
   "cell_type": "code",
   "execution_count": 8,
   "metadata": {},
   "outputs": [],
   "source": [
    "def dyna_q(maze=maze, plan_steps=50, episodes=8000, alpha=0.5, epsilon=0.1, gamma=1):\n",
    "    global moves\n",
    "    \n",
    "    '''\n",
    "    Suffixes: \n",
    "        - n: next\n",
    "        - p: planning\n",
    "        - m: max\n",
    "        - i: index\n",
    "    '''\n",
    "    \n",
    "    #  Last size of M = 3: reward (int) and state (tuple(int, int))\n",
    "    Q = np.random.rand(maze.shapex, maze.shapey, len(moves)) * 5 # Optimistic initialization\n",
    "    M = np.zeros((maze.shapex, maze.shapey, len(moves), 3), dtype=int)\n",
    "    \n",
    "    history = [set()] * maze.size # History for planning part\n",
    "    history_full = np.zeros(maze.size)\n",
    "    print('episode:', end=' ')\n",
    "    \n",
    "    for episode in range(episodes):\n",
    "        S = maze.start\n",
    "        if episode % 100 == 0:\n",
    "            print(episode, end=', ')\n",
    "        \n",
    "        while True:\n",
    "            # Moving\n",
    "            A     = epsilon_greedy_policy(Q, S, epsilon=epsilon)\n",
    "            Sn, R = move(maze, S, A)\n",
    "            \n",
    "            # Only add to History if it isnt full yet\n",
    "            if not history_full[maze.idx[S]]:\n",
    "                history[maze.idx[S]].add(move_idx[A])\n",
    "                if len(history[maze.idx[S]]) == 4:\n",
    "                    history_full[maze.idx[S]] = 1\n",
    "\n",
    "            # Direct Reinforcement Learning\n",
    "            Am       = np.argmax(Q[Sn])\n",
    "            idx      = (S[0],  S[1],  move_idx[A])\n",
    "            idxn     = (Sn[0], Sn[1], Am)\n",
    "            Q[idx]  += alpha * (R + gamma * Q[idxn] - Q[idx])\n",
    "\n",
    "            # Model Learning\n",
    "            M[idx]   = R, Sn[0], Sn[1]\n",
    "            S        = Sn\n",
    "\n",
    "            # Planning\n",
    "            visited = [i for i, h in enumerate(history) if h]\n",
    "            for step in range(plan_steps):\n",
    "                Spi = random.choice(visited)\n",
    "                Sp  = maze.state_from_index(Spi)\n",
    "                Api = random.choice(tuple(history[Spi]))\n",
    "                Rp  = M[Sp[0], Sp[1], Api, 0]\n",
    "                Spn = tuple(M[Sp[0], Sp[1], Api, 1:])\n",
    "\n",
    "                Apm     = np.argmax(Q[Spn])\n",
    "                idx     = (Sp[0],  Sp[1],  Api)\n",
    "                idxn    = (Spn[0], Spn[1], Apm)\n",
    "                Q[idx] += alpha * (Rp + gamma * Q[idxn] - Q[idx])\n",
    "                \n",
    "            # Next Episode if Goal reached\n",
    "            if Sn == maze.goal:\n",
    "                break\n",
    "            \n",
    "    return Q, M"
   ]
  },
  {
   "cell_type": "markdown",
   "metadata": {},
   "source": [
    "# Result"
   ]
  },
  {
   "cell_type": "markdown",
   "metadata": {},
   "source": [
    "the Dyna-Q Algorithm seems to not reach the goal everytime. It very often got stuck going back and forth in the topmost row. We need a bit of luck to reach the goal in the first episode"
   ]
  },
  {
   "cell_type": "code",
   "execution_count": 26,
   "metadata": {
    "scrolled": true
   },
   "outputs": [
    {
     "name": "stdout",
     "output_type": "stream",
     "text": [
      "episode: 0, 100, 200, 300, 400, 500, 600, 700, 800, 900, 1000, 1100, 1200, 1300, 1400, 1500, 1600, 1700, 1800, 1900, 2000, 2100, 2200, 2300, 2400, 2500, 2600, 2700, 2800, 2900, 3000, 3100, 3200, 3300, 3400, 3500, 3600, 3700, 3800, 3900, 4000, 4100, 4200, 4300, 4400, 4500, 4600, 4700, 4800, 4900, 5000, 5100, 5200, 5300, 5400, 5500, 5600, 5700, 5800, 5900, 6000, 6100, 6200, 6300, 6400, 6500, 6600, 6700, 6800, 6900, 7000, 7100, 7200, 7300, 7400, 7500, 7600, 7700, 7800, 7900, 8000, 8100, 8200, 8300, 8400, 8500, 8600, 8700, 8800, 8900, 9000, 9100, 9200, 9300, 9400, 9500, 9600, 9700, 9800, 9900, "
     ]
    }
   ],
   "source": [
    "Q, M = dyna_q(plan_steps=10, episodes=10000)"
   ]
  },
  {
   "cell_type": "markdown",
   "metadata": {},
   "source": [
    "# Path from Start to Goal "
   ]
  },
  {
   "cell_type": "code",
   "execution_count": 27,
   "metadata": {
    "scrolled": true
   },
   "outputs": [
    {
     "name": "stdout",
     "output_type": "stream",
     "text": [
      "path length: 14\n"
     ]
    },
    {
     "data": {
      "image/png": "[encoded data removed]",
      "text/plain": [
       "<Figure size 432x288 with 1 Axes>"
      ]
     },
     "metadata": {
      "needs_background": "light"
     },
     "output_type": "display_data"
    }
   ],
   "source": [
    "path = trace(maze, Q)\n",
    "maze.show_path(path)"
   ]
  },
  {
   "cell_type": "markdown",
   "metadata": {},
   "source": [
    "# Direction map\n",
    "* purple : wall\n",
    "* blue   : go up\n",
    "* yellow : go down\n",
    "* cyan   : go left\n",
    "* green  : go right\n",
    "\n",
    "Goal is shown in yellow at the top right too"
   ]
  },
  {
   "cell_type": "code",
   "execution_count": 28,
   "metadata": {
    "scrolled": true
   },
   "outputs": [
    {
     "data": {
      "text/plain": [
       "<matplotlib.image.AxesImage at 0x7fec88ef7eb0>"
      ]
     },
     "execution_count": 28,
     "metadata": {},
     "output_type": "execute_result"
    },
    {
     "data": {
      "image/png": "[encoded data removed]",
      "text/plain": [
       "<Figure size 432x288 with 1 Axes>"
      ]
     },
     "metadata": {
      "needs_background": "light"
     },
     "output_type": "display_data"
    }
   ],
   "source": [
    "directions = [((x, y), np.argmax(Q[x, y])) for x in range(maze.shapex) for y in range(maze.shapey)]   \n",
    "grid = np.full((maze.shapex, maze.shapey), -1)\n",
    "\n",
    "for i in directions:\n",
    "    if i[0] not in maze.walls:\n",
    "        grid[i[0]] = i[1]\n",
    "        \n",
    "        if i[0] != maze.goal:\n",
    "            arr_len = 0.85\n",
    "            dx = arr_len if i[1] == 2 else -arr_len if i[1] == 1 else 0 \n",
    "            dy = arr_len if i[1] == 3 else -arr_len if i[1] == 0 else 0\n",
    "            plt.arrow(i[0][1], i[0][0], dx, dy, head_width=0.1)\n",
    "\n",
    "plt.imshow(grid)"
   ]
  }
 ],
 "metadata": {
  "kernelspec": {
   "display_name": "Python 3",
   "language": "python",
   "name": "python3"
  },
  "language_info": {
   "codemirror_mode": {
    "name": "ipython",
    "version": 3
   },
   "file_extension": ".py",
   "mimetype": "text/x-python",
   "name": "python",
   "nbconvert_exporter": "python",
   "pygments_lexer": "ipython3",
   "version": "3.8.2"
  }
 },
 "nbformat": 4,
 "nbformat_minor": 4
}
