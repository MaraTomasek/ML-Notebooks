{
 "cells": [
  {
   "cell_type": "markdown",
   "metadata": {},
   "source": [
    "# Dynamic Environment Tests\n",
    "Gridworld where a shortcut opens up halfway through. \n",
    "\n",
    "With agents that learn __and__ plan\n",
    "\n",
    "\n",
    "* Position in the gridworld is the state\n",
    "* Actions are compass moves between positions.\n",
    "* Reward is 0 everywhere, except when reaching the goal, where it is 1"
   ]
  },
  {
   "cell_type": "markdown",
   "metadata": {},
   "source": [
    "# Environment"
   ]
  },
  {
   "cell_type": "code",
   "execution_count": 1,
   "metadata": {},
   "outputs": [],
   "source": [
    "%matplotlib inline\n",
    "import numpy as np\n",
    "import matplotlib.pyplot as plt\n",
    "import random"
   ]
  },
  {
   "cell_type": "code",
   "execution_count": 2,
   "metadata": {},
   "outputs": [],
   "source": [
    "class Maze:\n",
    "    '''Class defining the environment'''\n",
    "    def __init__(self, shapex, shapey, walls, start, goal):\n",
    "        self.shapex = shapex\n",
    "        self.shapey = shapey\n",
    "        self.walls  = walls\n",
    "        self.start  = start\n",
    "        self.goal   = goal\n",
    "        self.idx    = self.build_index()\n",
    "        self.size   = shapex * shapey\n",
    "        \n",
    "        self.set_bitmap()\n",
    "        self.original_walls = walls.copy()\n",
    "        \n",
    "    def reset_walls(self):\n",
    "        self.walls  = self.original_walls\n",
    "        self.set_bitmap()\n",
    "        \n",
    "    def state_from_index(self, number):\n",
    "        '''get state from index'''\n",
    "        x = number // self.shapey\n",
    "        y = number  % self.shapey\n",
    "        \n",
    "        return (x, y)\n",
    "        \n",
    "    def build_index(self):\n",
    "        '''build index for indexing states'''\n",
    "        return {(x, y) : self.shapey * x + y for x in range(self.shapex) \n",
    "                for y in range(self.shapey)}\n",
    "        \n",
    "    def set_bitmap(self):\n",
    "        '''builds the bitmap for visualisation'''\n",
    "        bitmap = np.ones((self.shapex, self.shapey))\n",
    "        \n",
    "        for wall in self.walls:\n",
    "            bitmap[wall] = 0\n",
    "        \n",
    "        self.bitmap = bitmap\n",
    "    \n",
    "    def show_bitmap(self):\n",
    "        '''shows the environment of holes and walkable path'''\n",
    "        plt.imshow(self.bitmap)\n",
    "        \n",
    "    def change(self, add=[], remove=[]):\n",
    "        '''add or remove walls'''\n",
    "        self.walls.extend([i for i in add])\n",
    "        self.walls = [wall for wall in self.walls if wall not in remove]\n",
    "        self.set_bitmap()"
   ]
  },
  {
   "cell_type": "code",
   "execution_count": 3,
   "metadata": {},
   "outputs": [
    {
     "data": {
      "image/png": "[encoded data removed]",
      "text/plain": [
       "<Figure size 432x288 with 1 Axes>"
      ]
     },
     "metadata": {
      "needs_background": "light"
     },
     "output_type": "display_data"
    }
   ],
   "source": [
    "shapex = 6\n",
    "shapey = 9\n",
    "start  = (5, 5)\n",
    "goal   = (0, 8)\n",
    "walls  = [(3, 1), (3, 2), (3, 3), (3, 4), (3, 5), (3, 6), (3, 7), (3, 8)]\n",
    "\n",
    "shortcut = Maze(shapex, shapey, walls, start, goal)\n",
    "shortcut.show_bitmap()"
   ]
  },
  {
   "cell_type": "markdown",
   "metadata": {},
   "source": [
    "# Implementations\n",
    "### Dyna-Q"
   ]
  },
  {
   "cell_type": "code",
   "execution_count": 4,
   "metadata": {},
   "outputs": [],
   "source": [
    "class DynaQ:\n",
    "    def __init__(self, maze, moves, plan_steps=50, alpha=0.1, epsilon=0.1, gamma=0.95):\n",
    "        self.maze       = maze\n",
    "        self.moves      = moves\n",
    "        self.plan_steps = plan_steps\n",
    "        self.alpha      = alpha\n",
    "        self.epsilon    = epsilon\n",
    "        self.gamma      = gamma\n",
    "        self.move_idx   = {moves[i] : i for i in range(len(moves))}\n",
    "    \n",
    "    # -------------------------------------------Methods-------------------------------------------------#\n",
    "    \n",
    "    def reset(self):\n",
    "        self.Q = np.random.rand(self.maze.shapex, self.maze.shapey, len(moves)) * 5\n",
    "        self.M = np.zeros((self.maze.shapex, self.maze.shapey, len(moves), 3), dtype=int)\n",
    "        self.history = [set()] * self.maze.size # History for planning part\n",
    "        self.history_full = np.zeros(self.maze.size, dtype=bool)\n",
    "        \n",
    "            \n",
    "    def step(self, S, A):\n",
    "        Sn, R = self.move(S, A)\n",
    "\n",
    "        # Only add to History if it isnt full yet\n",
    "        if not self.history_full[self.maze.idx[S]]:\n",
    "            self.history[self.maze.idx[S]].add(A)\n",
    "            if len(self.history[self.maze.idx[S]]) == 4:\n",
    "                self.history_full[self.maze.idx[S]] = 1\n",
    "                \n",
    "        self.visited = [i for i, h in enumerate(self.history) if h]\n",
    "        return Sn, R\n",
    "        \n",
    "    def q_update(self, S, A, R, Sn):\n",
    "        Am       = np.argmax(self.Q[Sn])\n",
    "        idx      = (S[0],  S[1],  A)\n",
    "        idxn     = (Sn[0], Sn[1], Am)\n",
    "        self.Q[idx] += self.alpha * (R + self.gamma * self.Q[idxn] - self.Q[idx])\n",
    "        \n",
    "    def m_update(self, S, A, R, Sn):\n",
    "        idx         = (S[0], S[1], A)\n",
    "        self.M[idx] = R, Sn[0], Sn[1]\n",
    "        \n",
    "    def update(self, S, A, R, Sn):\n",
    "        self.q_update(S, A, R, Sn)\n",
    "        self.m_update(S, A, R, Sn)\n",
    "        \n",
    "    def plan(self):\n",
    "        for step in range(self.plan_steps):\n",
    "            Spi = random.choice(self.visited)\n",
    "            Sp  = self.maze.state_from_index(Spi)\n",
    "            Ap  = random.choice(tuple(self.history[Spi]))\n",
    "            Rp  = self.M[Sp[0], Sp[1], Ap, 0]\n",
    "            Spn = tuple(self.M[Sp[0], Sp[1], Ap, 1:])\n",
    "            \n",
    "            self.q_update(Sp, Ap, Rp, Spn)\n",
    "            \n",
    "    def done(self, S):\n",
    "        return S == self.maze.goal\n",
    "    \n",
    "    # --------------------------------------------Setup--------------------------------------------------#\n",
    "    \n",
    "    def move(self, S, A):\n",
    "        # Clamp values to map\n",
    "        direction = self.moves[A]\n",
    "        \n",
    "        Sx  = int(max(0, min(self.maze.shapex - 1, S[0] + direction[0])))\n",
    "        Sy  = int(max(0, min(self.maze.shapey - 1, S[1] + direction[1])))\n",
    "        Sn = (Sx, Sy)\n",
    "\n",
    "        # Reset position if falling in hole\n",
    "        if Sn in self.maze.walls:\n",
    "            Sn = S\n",
    "\n",
    "        R = 1 if Sn == self.maze.goal else 0\n",
    "\n",
    "        return Sn, R\n",
    "    \n",
    "    def greedy(self, S):\n",
    "        return np.argmax(self.Q[S])\n",
    "    \n",
    "    def epsilon_greedy(self, S):\n",
    "        return np.argmax(self.Q[S]) if np.random.rand() > self.epsilon else np.random.randint(len(moves))\n",
    "    \n",
    "    def trace(self):\n",
    "        S = self.maze.start\n",
    "        path = []\n",
    "\n",
    "        while not self.done(S):\n",
    "            path.append(S)\n",
    "            A    = self.greedy(S)\n",
    "            S, _ = self.step(S, A)\n",
    "\n",
    "            # Loop detection\n",
    "            if S in path:\n",
    "                print(\"State Values dont create greedy path\")\n",
    "                break\n",
    "\n",
    "        return path\n",
    "    \n",
    "    # -------------------------------------------Imaging-------------------------------------------------#\n",
    "    \n",
    "    def create_best_path_img(self):\n",
    "        path = self.trace()\n",
    "        \n",
    "        c0 = 5\n",
    "        c1 = 6\n",
    "        \n",
    "        length    = len(path)\n",
    "        grid      = self.maze.bitmap.copy()\n",
    "        fade      = np.linspace(c0, c1, num=length)\n",
    "        \n",
    "        for i in range(length):\n",
    "            grid[path[i]] = fade[i]\n",
    "            \n",
    "        grid[self.maze.start] = c0\n",
    "        grid[self.maze.goal]  = c1\n",
    "        \n",
    "        print(f\"path length: {length}\")\n",
    "        return grid\n",
    "    \n",
    "    def create_direction_map_img(self):\n",
    "        arr_len    = 0.85\n",
    "        grid       = self.create_best_path_img()\n",
    "        directions = [(S, self.greedy(S))\n",
    "                      for x in range(self.maze.shapex) \n",
    "                      for y in range(self.maze.shapey) if (S := (x, y))]   \n",
    "\n",
    "        for i in directions:\n",
    "            if i[0] not in self.maze.walls and i[0] != self.maze.goal:\n",
    "                    dx = arr_len if i[1] == 2 else -arr_len if i[1] == 1 else 0 \n",
    "                    dy = arr_len if i[1] == 3 else -arr_len if i[1] == 0 else 0\n",
    "                    plt.arrow(i[0][1], i[0][0], dx, dy, head_width=0.1)\n",
    "\n",
    "        return grid\n",
    "    \n",
    "    def draw_path_and_dir_map(self):\n",
    "        plt.imshow(self.create_direction_map_img())"
   ]
  },
  {
   "cell_type": "markdown",
   "metadata": {},
   "source": [
    "### DynaQ+\n",
    "Additional variable $\\tau$ tracking for each state how many timesteps have gone by since it was last visited.\n",
    "\n",
    "In the planning phase we add $k \\cdot \\sqrt{\\tau}$ to the planned reward. This changes the estimated values for states and actions but _encourages_ exploration."
   ]
  },
  {
   "cell_type": "code",
   "execution_count": 5,
   "metadata": {},
   "outputs": [],
   "source": [
    "class DynaQPlus(DynaQ):\n",
    "    def __init__(self, maze, moves, plan_steps=50, alpha=0.1, epsilon=0.1, gamma=0.95, k=0.00001):\n",
    "        super().__init__(maze, moves, plan_steps, alpha, epsilon, gamma)\n",
    "        self.k = k\n",
    "        \n",
    "    def reset(self):\n",
    "        self.Q = np.random.rand(self.maze.shapex, self.maze.shapey, len(moves)) * 5\n",
    "        self.M = np.zeros((self.maze.shapex, self.maze.shapey, len(moves), 3), dtype=int)\n",
    "        self.T = np.zeros(self.maze.size)\n",
    "        self.history      = [set()] * self.maze.size # History for planning part\n",
    "        self.history_full = np.zeros(self.maze.size)\n",
    "            \n",
    "    def step(self, S, A):\n",
    "        Sn, R = self.move(S, A)\n",
    "        self.T[self.maze.idx[S]] = 0\n",
    "\n",
    "        # Only add to History if it isnt full yet\n",
    "        if not self.history_full[self.maze.idx[S]]:\n",
    "            self.history[self.maze.idx[S]].add(A)\n",
    "            if len(self.history[self.maze.idx[S]]) == 4:\n",
    "                self.history_full[self.maze.idx[S]] = 1\n",
    "                \n",
    "        self.visited = [i for i, h in enumerate(self.history) if h]\n",
    "        \n",
    "        for i in self.visited:\n",
    "            self.T[i] += 1\n",
    "            \n",
    "        return Sn, R\n",
    "                \n",
    "    def plan(self):\n",
    "        for step in range(self.plan_steps):\n",
    "            Spi = random.choice(self.visited)\n",
    "            Sp  = self.maze.state_from_index(Spi)\n",
    "            Ap  = random.choice(tuple(self.history[Spi]))\n",
    "            Rp  = self.M[Sp[0], Sp[1], Ap, 0] + self.k * np.sqrt(self.T[Spi])\n",
    "            Spn = tuple(self.M[Sp[0], Sp[1], Ap, 1:])\n",
    "            \n",
    "            self.q_update(Sp, Ap, Rp, Spn)"
   ]
  },
  {
   "cell_type": "markdown",
   "metadata": {},
   "source": [
    "### DynaQ+Experiment (Ex. 8.4)\n",
    "Instead of adding $k \\cdot \\sqrt{\\tau}$ to the planned reward, we change our greedy action to be greedy towards the reward $R + k \\cdot \\sqrt{\\tau}$."
   ]
  },
  {
   "cell_type": "code",
   "execution_count": 6,
   "metadata": {},
   "outputs": [],
   "source": [
    "class DynaQPlusExperiment(DynaQ):\n",
    "    def __init__(self, maze, moves, plan_steps=50, alpha=0.1, epsilon=0.1, gamma=0.95, k=0.00001):\n",
    "        super().__init__(maze, moves, plan_steps, alpha, epsilon, gamma)\n",
    "        self.k = k\n",
    "        \n",
    "    def reset(self):\n",
    "        self.Q = np.random.rand(self.maze.shapex, self.maze.shapey, len(moves)) * 5\n",
    "        self.M = np.zeros((self.maze.shapex, self.maze.shapey, len(moves), 3), dtype=int)\n",
    "        self.T = np.zeros(self.maze.size)\n",
    "        self.history      = [set()] * self.maze.size # History for planning part\n",
    "        self.history_full = np.zeros(self.maze.size)\n",
    "            \n",
    "    def step(self, S, A):\n",
    "        Sn, R = self.move(S, A)\n",
    "        self.T[self.maze.idx[S]] = 0\n",
    "\n",
    "        # Only add to History if it isnt full yet\n",
    "        if not self.history_full[self.maze.idx[S]]:\n",
    "            self.history[self.maze.idx[S]].add(A)\n",
    "            if len(self.history[self.maze.idx[S]]) == 4:\n",
    "                self.history_full[self.maze.idx[S]] = 1\n",
    "                \n",
    "        self.visited = [i for i, h in enumerate(self.history) if h]\n",
    "        \n",
    "        for i in self.visited:\n",
    "            self.T[i] += 1\n",
    "        \n",
    "        return Sn, R\n",
    "    \n",
    "    def epsilon_greedy(self, S):                \n",
    "        i = np.argmax([self.Q[Sn][i] + self.k * np.sqrt(self.T[self.maze.idx[Sn]]) \n",
    "                       for i in range(len(self.moves)) \n",
    "                       if (Sn := self.move(S, i)[0])])\n",
    "        \n",
    "        return i if np.random.rand() > self.epsilon else np.random.randint(len(moves))"
   ]
  },
  {
   "cell_type": "markdown",
   "metadata": {},
   "source": [
    "### Prioritized Sweeping"
   ]
  },
  {
   "cell_type": "code",
   "execution_count": 7,
   "metadata": {},
   "outputs": [],
   "source": [
    "class Prioritized_Sweep(DynaQ):\n",
    "    def __init__(self, maze, moves, plan_steps=50, alpha=0.1, epsilon=0.1, gamma=0.95, theta=0.1):\n",
    "        super().__init__(maze, moves, plan_steps, alpha, epsilon, gamma)\n",
    "        self.theta = theta\n",
    "    \n",
    "    def reset(self):\n",
    "        self.Q = np.random.rand(self.maze.shapex, self.maze.shapey, len(moves)) * 5\n",
    "        self.M = np.zeros((self.maze.shapex, self.maze.shapey, len(moves), 3), dtype=int)\n",
    "        self.PQueue = []\n",
    "        \n",
    "    def p_update(self, S, A, R, Sn):\n",
    "        Am       = np.argmax(self.Q[Sn])\n",
    "        idx      = (S[0],  S[1],  A)\n",
    "        idxn     = (Sn[0], Sn[1], Am)\n",
    "        P        = abs(R + self.gamma * self.Q[idxn] - self.Q[idx])\n",
    "        if P > theta:\n",
    "            self.insert_correctly(self, P, S, A)\n",
    "            \n",
    "    def step(self, S, A):\n",
    "        Sn, R = self.move(S, A)\n",
    "        return Sn, R\n",
    "    \n",
    "    def update(self, S, A, R, Sn):\n",
    "        self.m_update(S, A, R, Sn)\n",
    "        self.p_update(S, A, R, Sn)\n",
    "        \n",
    "    def plan(self):\n",
    "        for step in range(self.plan_steps):\n",
    "            if len(self.PQueue) > 0:\n",
    "                _, S, A = self.PQueue.pop(0)\n",
    "                idx     = (S[0],  S[1],  A)\n",
    "                R       = self.M[idx][0]\n",
    "                Sn      = tuple(self.M[idx][1:])\n",
    "                self.q_update(S, A, R, Sn)\n",
    "                \n",
    "                # Catch all states leading to S according to Model M\n",
    "                MP = []\n",
    "                for x in range(self.maze.shapex):\n",
    "                    for y in range(self.maze.shapey):\n",
    "                        for a in range(len(self.moves)):\n",
    "                            if S == (Rp, Spx, Spy := self.M[x, y, a]):\n",
    "                                MP.append((Rp, Spx, Spy, a))\n",
    "                                \n",
    "                for i in range(len(MP)):\n",
    "                    Rp, Spx, Spy, Ap = MP[i]\n",
    "                    self.p_udate((Spx, Spy), Ap, Rp, S)\n",
    "    \n",
    "    def insert_correctly(self, P, S, A):\n",
    "        to_insert = (P, S, A)\n",
    "        inserted  = False\n",
    "        \n",
    "        for i in range(len(self.PQueue)):\n",
    "            if P >= self.PQueue[i[0]]:\n",
    "                self.PQueue.insert(to_insert, i)\n",
    "                inserted = True\n",
    "                    \n",
    "        if not inserted:\n",
    "            self.PQueue.append(to_insert)"
   ]
  },
  {
   "cell_type": "markdown",
   "metadata": {},
   "source": [
    "# Testing\n",
    "Shortcut world, shortcut opens when we're halfway through the learning process"
   ]
  },
  {
   "cell_type": "code",
   "execution_count": 8,
   "metadata": {},
   "outputs": [],
   "source": [
    "episodes = 6000\n",
    "moves    = [(-1, 0), (0, -1), (0, 1), (1, 0)]\n",
    "world    = shortcut\n",
    "switch   = episodes // 2"
   ]
  },
  {
   "cell_type": "code",
   "execution_count": 52,
   "metadata": {},
   "outputs": [],
   "source": [
    "def train(agent, world):\n",
    "    agent.reset()    \n",
    "    world.reset_walls()\n",
    "    reward_history = []\n",
    "\n",
    "    for episode in range(episodes):\n",
    "        S = world.start\n",
    "        t = 0\n",
    "\n",
    "        if episode == switch:\n",
    "            world.change(remove=[(3, 8)])\n",
    "\n",
    "        while True:\n",
    "            A     = agent.epsilon_greedy(S)\n",
    "            Sn, R = agent.step(S, A)\n",
    "            agent.update(S, A, R, Sn)\n",
    "\n",
    "            S = Sn\n",
    "            agent.plan()\n",
    "            \n",
    "            t += 1\n",
    "            if agent.done(S) or t > 50:\n",
    "                reward_history.append((R, t))\n",
    "                break\n",
    "\n",
    "    return np.array(reward_history)"
   ]
  },
  {
   "cell_type": "markdown",
   "metadata": {},
   "source": [
    "### DynaQ Run"
   ]
  },
  {
   "cell_type": "code",
   "execution_count": 53,
   "metadata": {},
   "outputs": [
    {
     "name": "stdout",
     "output_type": "stream",
     "text": [
      "path length: 18\n"
     ]
    },
    {
     "data": {
      "image/png": "[encoded data removed]",
      "text/plain": [
       "<Figure size 432x288 with 1 Axes>"
      ]
     },
     "metadata": {
      "needs_background": "light"
     },
     "output_type": "display_data"
    }
   ],
   "source": [
    "agent   = DynaQ(world, moves, plan_steps=50, alpha=0.1, epsilon=0.1, gamma=0.95)\n",
    "reward1 = train(agent, world)\n",
    "agent.draw_path_and_dir_map();"
   ]
  },
  {
   "cell_type": "markdown",
   "metadata": {},
   "source": [
    "### DynaQ+ Run"
   ]
  },
  {
   "cell_type": "code",
   "execution_count": 64,
   "metadata": {},
   "outputs": [
    {
     "name": "stdout",
     "output_type": "stream",
     "text": [
      "State Values dont create greedy path\n",
      "path length: 4\n"
     ]
    },
    {
     "data": {
      "image/png": "[encoded data removed]",
      "text/plain": [
       "<Figure size 432x288 with 1 Axes>"
      ]
     },
     "metadata": {
      "needs_background": "light"
     },
     "output_type": "display_data"
    }
   ],
   "source": [
    "agent2  = DynaQPlus(world, moves, plan_steps=50, alpha=0.1, epsilon=0.1, gamma=0.95, k=0.00001)\n",
    "reward2 = train(agent2, world)\n",
    "agent2.draw_path_and_dir_map();"
   ]
  },
  {
   "cell_type": "markdown",
   "metadata": {},
   "source": [
    "### DynaQ+Experiment Run\n",
    "(takes a while)"
   ]
  },
  {
   "cell_type": "code",
   "execution_count": 65,
   "metadata": {
    "scrolled": false
   },
   "outputs": [
    {
     "name": "stdout",
     "output_type": "stream",
     "text": [
      "State Values dont create greedy path\n",
      "path length: 4\n"
     ]
    },
    {
     "data": {
      "image/png": "[encoded data removed]",
      "text/plain": [
       "<Figure size 432x288 with 1 Axes>"
      ]
     },
     "metadata": {
      "needs_background": "light"
     },
     "output_type": "display_data"
    }
   ],
   "source": [
    "agent3  = DynaQPlusExperiment(world, moves, plan_steps=50, alpha=0.1, epsilon=0.1, gamma=0.95, k=0.0001)\n",
    "reward3 = train(agent3, world)\n",
    "agent3.draw_path_and_dir_map();"
   ]
  },
  {
   "cell_type": "markdown",
   "metadata": {},
   "source": [
    "### Priorized Sweeping Run\n",
    "(should take less time than the rest)"
   ]
  },
  {
   "cell_type": "code",
   "execution_count": 66,
   "metadata": {},
   "outputs": [
    {
     "ename": "NameError",
     "evalue": "name 'prioritized_sweep' is not defined",
     "output_type": "error",
     "traceback": [
      "\u001b[0;31m---------------------------------------------------------------------------\u001b[0m",
      "\u001b[0;31mNameError\u001b[0m                                 Traceback (most recent call last)",
      "\u001b[0;32m<ipython-input-66-9698a2905f56>\u001b[0m in \u001b[0;36m<module>\u001b[0;34m\u001b[0m\n\u001b[0;32m----> 1\u001b[0;31m \u001b[0magent4\u001b[0m  \u001b[0;34m=\u001b[0m \u001b[0mprioritized_sweep\u001b[0m\u001b[0;34m(\u001b[0m\u001b[0mworld\u001b[0m\u001b[0;34m,\u001b[0m \u001b[0mmoves\u001b[0m\u001b[0;34m,\u001b[0m \u001b[0mplan_steps\u001b[0m\u001b[0;34m=\u001b[0m\u001b[0;36m50\u001b[0m\u001b[0;34m,\u001b[0m \u001b[0malpha\u001b[0m\u001b[0;34m=\u001b[0m\u001b[0;36m0.1\u001b[0m\u001b[0;34m,\u001b[0m \u001b[0mepsilon\u001b[0m\u001b[0;34m=\u001b[0m\u001b[0;36m0.1\u001b[0m\u001b[0;34m,\u001b[0m \u001b[0mgamma\u001b[0m\u001b[0;34m=\u001b[0m\u001b[0;36m0.95\u001b[0m\u001b[0;34m,\u001b[0m \u001b[0mtheta\u001b[0m\u001b[0;34m=\u001b[0m\u001b[0;36m0.1\u001b[0m\u001b[0;34m)\u001b[0m\u001b[0;34m\u001b[0m\u001b[0;34m\u001b[0m\u001b[0m\n\u001b[0m\u001b[1;32m      2\u001b[0m \u001b[0mreward4\u001b[0m \u001b[0;34m=\u001b[0m \u001b[0mtrain\u001b[0m\u001b[0;34m(\u001b[0m\u001b[0magent4\u001b[0m\u001b[0;34m,\u001b[0m \u001b[0mworld\u001b[0m\u001b[0;34m)\u001b[0m\u001b[0;34m\u001b[0m\u001b[0;34m\u001b[0m\u001b[0m\n\u001b[1;32m      3\u001b[0m \u001b[0magent4\u001b[0m\u001b[0;34m.\u001b[0m\u001b[0mdraw_path_and_dir_map\u001b[0m\u001b[0;34m(\u001b[0m\u001b[0;34m)\u001b[0m\u001b[0;34m;\u001b[0m\u001b[0;34m\u001b[0m\u001b[0;34m\u001b[0m\u001b[0m\n",
      "\u001b[0;31mNameError\u001b[0m: name 'prioritized_sweep' is not defined"
     ]
    }
   ],
   "source": [
    "agent4  = prioritized_sweep(world, moves, plan_steps=50, alpha=0.1, epsilon=0.1, gamma=0.95, theta=0.1)\n",
    "reward4 = train(agent4, world)\n",
    "agent4.draw_path_and_dir_map();"
   ]
  },
  {
   "cell_type": "markdown",
   "metadata": {},
   "source": [
    "# Results\n",
    "DynaQ doesn't find the newly opened shortcut, while DynaQ+ does.\n",
    "\n",
    "But if you follow DynaQ+' State-Action Space greedily you won't reach the goal from every position.\n",
    "\n",
    "## Cumulative Rewards"
   ]
  },
  {
   "cell_type": "code",
   "execution_count": null,
   "metadata": {},
   "outputs": [],
   "source": [
    "def cumsum(reward):\n",
    "    return np.cumsum([i[0] / i[1] for i in reward])\n",
    "\n",
    "rewards = [reward1, reward2, reward3, reward4]\n",
    "x = np.arange(episodes)\n",
    "\n",
    "largest_reward = max([cumsum(reward) for reward in rewards])\n",
    "plt.plot(x, cumsum(reward1), label='DynaQ')\n",
    "plt.plot(x, cumsum(reward2), label='DynaQ+')\n",
    "plt.plot(x, cumsum(reward3), label='DynaQ+E')\n",
    "plt.plot(x, cumsum(reward4), label='PrioSweep')\n",
    "plt.vlines(switch, 0, largest_reward, linestyles='dashed', label='Shortcut open')\n",
    "plt.xlabel('Episode No.')\n",
    "plt.ylabel('Average Cumulative Reward')\n",
    "plt.title('Comparison of Cumulative Rewards over time')\n",
    "plt.legend()\n",
    "plt.show()"
   ]
  }
 ],
 "metadata": {
  "kernelspec": {
   "display_name": "Python 3",
   "language": "python",
   "name": "python3"
  },
  "language_info": {
   "codemirror_mode": {
    "name": "ipython",
    "version": 3
   },
   "file_extension": ".py",
   "mimetype": "text/x-python",
   "name": "python",
   "nbconvert_exporter": "python",
   "pygments_lexer": "ipython3",
   "version": "3.8.2"
  }
 },
 "nbformat": 4,
 "nbformat_minor": 4
}
