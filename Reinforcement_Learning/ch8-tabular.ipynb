{
 "cells": [
  {
   "cell_type": "markdown",
   "metadata": {},
   "source": [
    "# Environment"
   ]
  },
  {
   "cell_type": "code",
   "execution_count": 1,
   "metadata": {},
   "outputs": [],
   "source": [
    "import numpy as np\n",
    "import matplotlib.pyplot as plt\n",
    "import random"
   ]
  },
  {
   "cell_type": "code",
   "execution_count": 2,
   "metadata": {},
   "outputs": [],
   "source": [
    "class Maze:\n",
    "    '''Class defining the environment'''\n",
    "    def __init__(self, shapex, shapey, holes, start, goal):\n",
    "        self.shapex = shapex\n",
    "        self.shapey = shapey\n",
    "        self.walls  = walls\n",
    "        self.start  = start\n",
    "        self.goal   = goal\n",
    "        self.idx    = self.build_index()\n",
    "        self.size   = shapex * shapey\n",
    "        self.bitmap = self.build_bitmap()\n",
    "        \n",
    "    def state_from_index(self, number):\n",
    "        '''get state from index'''\n",
    "        x = number // self.shapey\n",
    "        y = number  % self.shapey\n",
    "        \n",
    "        return (x, y)\n",
    "        \n",
    "    def build_index(self):\n",
    "        '''build index for indexing states'''\n",
    "        return {(x, y) : self.shapey * x + y for x in range(self.shapex) \n",
    "                for y in range(self.shapey)}\n",
    "        \n",
    "    def build_bitmap(self):\n",
    "        '''builds the bitmap for visualisation'''\n",
    "        bitmap = np.ones((self.shapex, self.shapey))\n",
    "        \n",
    "        for wall in self.walls:\n",
    "            bitmap[wall] = 0\n",
    "        \n",
    "        return bitmap\n",
    "    \n",
    "    def show_bitmap(self):\n",
    "        '''shows the environment of holes and walkable path'''\n",
    "        \n",
    "        plt.imshow(self.bitmap)\n",
    "    \n",
    "    def show_path(self, path):\n",
    "        '''\n",
    "        path : list(tuple(int, int)) : sequence of states\n",
    "        \n",
    "        plots a given path onto the bitmap\n",
    "        '''\n",
    "        \n",
    "        c0 = 5\n",
    "        c1 = 6\n",
    "        \n",
    "        length    = len(path)\n",
    "        maze      = self.bitmap.copy()\n",
    "        fade      = np.linspace(c0, c1, num=length)\n",
    "        \n",
    "        for i in range(length):\n",
    "            maze[path[i]] = fade[i]\n",
    "            \n",
    "        maze[self.start] = c0\n",
    "        maze[self.goal]  = c1\n",
    "        \n",
    "        print(f\"path length: {len(path)}\")\n",
    "        plt.imshow(maze)"
   ]
  },
  {
   "cell_type": "code",
   "execution_count": 3,
   "metadata": {},
   "outputs": [
    {
     "data": {
      "image/png": "[encoded data removed]",
      "text/plain": [
       "<Figure size 432x288 with 1 Axes>"
      ]
     },
     "metadata": {
      "needs_background": "light"
     },
     "output_type": "display_data"
    }
   ],
   "source": [
    "shapex = 6\n",
    "shapey = 9\n",
    "start  = (2, 0)\n",
    "goal   = (0, 8)\n",
    "walls  = [(1, 2), (2, 2), (3, 2), (4, 5), (0, 7), (1, 7), (2, 7)]\n",
    "\n",
    "maze  = Maze(shapex, shapey, walls, start, goal)\n",
    "maze.show_bitmap()"
   ]
  },
  {
   "cell_type": "markdown",
   "metadata": {},
   "source": [
    "# Setup"
   ]
  },
  {
   "cell_type": "code",
   "execution_count": 4,
   "metadata": {},
   "outputs": [],
   "source": [
    "moves     = [(-1, 0), (0, -1), (0, 1), (1, 0)]\n",
    "move_idx  = {moves[i] : i for i in range(len(moves))}"
   ]
  },
  {
   "cell_type": "code",
   "execution_count": 5,
   "metadata": {},
   "outputs": [],
   "source": [
    "def move(maze, pos, act):\n",
    "    '''\n",
    "    maze   : Maze            : Environment\n",
    "    pos    : tuple(int, int) : Position in Environment\n",
    "    act    : tuple(int, int) : Move direction\n",
    "    \n",
    "    Move from pos in direction act\n",
    "    \n",
    "    newpos : tuple(int, int) : New position\n",
    "    '''\n",
    "    \n",
    "    oldpos = pos\n",
    "    \n",
    "    # Clamp values to map\n",
    "    x_pos  = int(max(0, min(maze.shapex - 1, pos[0] + act[0])))\n",
    "    y_pos  = int(max(0, min(maze.shapey - 1, pos[1] + act[1])))\n",
    "    newpos = (x_pos, y_pos)\n",
    "    \n",
    "    # Reset position if falling in hole\n",
    "    if newpos in maze.walls:\n",
    "        newpos = oldpos\n",
    "        \n",
    "    reward = 1 if newpos == maze.goal else 0\n",
    "    \n",
    "    return newpos, reward"
   ]
  },
  {
   "cell_type": "code",
   "execution_count": 6,
   "metadata": {},
   "outputs": [],
   "source": [
    "def epsilon_greedy_policy(Q, pos, epsilon=0.1):\n",
    "    '''\n",
    "    Q         : 3d np.array(), float : State-Action values\n",
    "    pos       : tuple(int, int)      : Position in Environment\n",
    "    epsilon   : float in [0, 1]      : Exploration / Exploitation Parameter\n",
    "    \n",
    "    Epsilon Greedy Policy. For a low epsilon value : high exploitation, low exploration\n",
    "    \n",
    "              : tuple(int, int)      : Decided Action according to policy\n",
    "    '''\n",
    "    \n",
    "    global moves\n",
    "    \n",
    "    act_i = None\n",
    "    r     = np.random.rand()\n",
    "        \n",
    "    if r > epsilon:\n",
    "        act_i = np.argmax(Q[pos])\n",
    "    else:\n",
    "        act_i = np.random.randint(len(moves))\n",
    "        \n",
    "    return moves[act_i]"
   ]
  },
  {
   "cell_type": "code",
   "execution_count": 7,
   "metadata": {},
   "outputs": [],
   "source": [
    "def trace(maze, Q):\n",
    "    global moves\n",
    "    \n",
    "    S = maze.start\n",
    "    A = moves[np.argmax(Q[S])]\n",
    "    path = []\n",
    "    \n",
    "    while S != maze.goal:\n",
    "        path.append(S)\n",
    "        Sn, _ = move(maze, S, A)\n",
    "        An    = moves[np.argmax(Q[Sn])]\n",
    "        S     = Sn\n",
    "        A     = An\n",
    "        \n",
    "        if Sn == maze.start or Sn in path:\n",
    "            print(\"State Values dont create greedy path\")\n",
    "            break\n",
    "    \n",
    "    return path"
   ]
  },
  {
   "cell_type": "markdown",
   "metadata": {},
   "source": [
    "# Dyna-Q"
   ]
  },
  {
   "cell_type": "code",
   "execution_count": 8,
   "metadata": {},
   "outputs": [],
   "source": [
    "def dyna_q(maze=maze, plan_steps=50, episodes=8000, alpha=0.5, epsilon=0.1, gamma=1):\n",
    "    global moves\n",
    "    \n",
    "    '''\n",
    "    Suffixes: \n",
    "        - n: next\n",
    "        - p: planning\n",
    "        - m: max\n",
    "        - i: index\n",
    "    '''\n",
    "    \n",
    "    Q = np.zeros((maze.shapex, maze.shapey, len(moves)))\n",
    "    M = np.zeros((maze.shapex, maze.shapey, len(moves), 3), dtype=int) # 3: reward (int) and state (tuple(int, int))\n",
    "    S = maze.start\n",
    "    \n",
    "    history = [set()] * maze.size # History for planning part\n",
    "    \n",
    "    for episode in range(episodes):\n",
    "        # Moving\n",
    "        A     = epsilon_greedy_policy(Q, S)\n",
    "        Sn, R = move(maze, S, A)\n",
    "        if (len(history[maze.idx[S]]) != 4):\n",
    "            history[maze.idx[S]].add(move_idx[A])\n",
    "        \n",
    "        # Direct Reinforcement Learning\n",
    "        Am       = np.argmax(Q[Sn])\n",
    "        idx      = (S[0],  S[1],  move_idx[A])\n",
    "        idxn     = (Sn[0], Sn[1], Am)\n",
    "        Q[idx]  += alpha * (R + gamma * Q[idxn] - Q[idx])\n",
    "        \n",
    "        # Model Learning\n",
    "        M[idx]   = R, Sn[0], Sn[1]\n",
    "        S        = Sn\n",
    "        \n",
    "        # Planning\n",
    "        visited = [i for i, h in enumerate(history) if h]\n",
    "        for step in range(plan_steps):\n",
    "            Spi = random.choice(visited)\n",
    "            Sp  = maze.state_from_index(Spi)\n",
    "            Api = random.choice(tuple(history[Spi]))\n",
    "            Rp  = M[Sp[0], Sp[1], Api, 0]\n",
    "            Spn = tuple(M[Sp[0], Sp[1], Api, 1:])\n",
    "            \n",
    "            Apm     = np.argmax(Q[Spn])\n",
    "            idx     = (Sp[0],  Sp[1],  Api)\n",
    "            idxn    = (Spn[0], Spn[1], Apm)\n",
    "            Q[idx] += alpha * (Rp + gamma * Q[idxn] - Q[idx])\n",
    "            \n",
    "    return Q, M"
   ]
  },
  {
   "cell_type": "markdown",
   "metadata": {},
   "source": [
    "# Result"
   ]
  },
  {
   "cell_type": "code",
   "execution_count": 9,
   "metadata": {},
   "outputs": [
    {
     "name": "stdout",
     "output_type": "stream",
     "text": [
      "State Values dont create greedy path\n",
      "path length: 3\n"
     ]
    },
    {
     "data": {
      "image/png": "[encoded data removed]",
      "text/plain": [
       "<Figure size 432x288 with 1 Axes>"
      ]
     },
     "metadata": {
      "needs_background": "light"
     },
     "output_type": "display_data"
    }
   ],
   "source": [
    "Q, M = dyna_q(plan_steps=10, episodes=10000)\n",
    "path = trace(maze, Q)\n",
    "maze.show_path(path)"
   ]
  },
  {
   "cell_type": "code",
   "execution_count": null,
   "metadata": {},
   "outputs": [],
   "source": []
  }
 ],
 "metadata": {
  "kernelspec": {
   "display_name": "Python 3",
   "language": "python",
   "name": "python3"
  },
  "language_info": {
   "codemirror_mode": {
    "name": "ipython",
    "version": 3
   },
   "file_extension": ".py",
   "mimetype": "text/x-python",
   "name": "python",
   "nbconvert_exporter": "python",
   "pygments_lexer": "ipython3",
   "version": "3.8.2"
  }
 },
 "nbformat": 4,
 "nbformat_minor": 4
}
