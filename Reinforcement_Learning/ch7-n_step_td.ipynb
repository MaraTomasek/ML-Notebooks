{
 "cells": [
  {
   "cell_type": "code",
   "execution_count": 1,
   "metadata": {},
   "outputs": [],
   "source": [
    "%matplotlib inline\n",
    "\n",
    "import numpy as np\n",
    "import matplotlib\n",
    "import matplotlib.pyplot as plt"
   ]
  },
  {
   "cell_type": "markdown",
   "metadata": {},
   "source": [
    "# Definition"
   ]
  },
  {
   "cell_type": "markdown",
   "metadata": {},
   "source": [
    "![Bild](img/ex66.png)"
   ]
  },
  {
   "cell_type": "markdown",
   "metadata": {},
   "source": [
    "### Cliff- Example: \n",
    "* Episodic Task\n",
    "* Simple Grid-World\n",
    "* States are Grid-Positions\n",
    "* Available actions are King-Moves\n",
    "* Each step (not falling down the cliff) has a reward of R = -1\n",
    "* Reaching the Goal has a reward of 0\n",
    "* Walking down the cliff resets the position back to the start S with reward R = -100\n",
    "\n",
    "### Note\n",
    "* In the Pseudocode for n-step TD States and Rewards get stored in a Datastructure that takes their indexes $\\% (n+1)$ - Right now I just store the whole sequence. Shouldn't be a difficult change, just put in some $\\%$ operator everytime we access or store something."
   ]
  },
  {
   "cell_type": "code",
   "execution_count": 2,
   "metadata": {},
   "outputs": [],
   "source": [
    "class Cliff:\n",
    "    '''Class defining the environment'''\n",
    "    def __init__(self, shapex, shapey, holes, start, goal):\n",
    "        self.shapex = shapex\n",
    "        self.shapey = shapey\n",
    "        self.holes  = holes\n",
    "        self.start  = start\n",
    "        self.goal   = goal\n",
    "        \n",
    "        self.bitmap = self.build_bitmap()\n",
    "        \n",
    "    def build_bitmap(self):\n",
    "        '''builds the bitmap for visualisation'''\n",
    "        bitmap = np.ones((self.shapex, self.shapey))\n",
    "        \n",
    "        for hole in holes:\n",
    "            bitmap[hole] = 0\n",
    "        \n",
    "        return bitmap\n",
    "    \n",
    "    def show_bitmap(self):\n",
    "        '''shows the environment of holes and walkable path'''\n",
    "        \n",
    "        plt.imshow(self.bitmap)\n",
    "    \n",
    "    def show_path(self, path):\n",
    "        '''\n",
    "        path : list(tuple(int, int)) : sequence of states\n",
    "        \n",
    "        plots a given path onto the bitmap\n",
    "        '''\n",
    "        \n",
    "        c0 = 5\n",
    "        c1 = 6\n",
    "        \n",
    "        length    = len(path)\n",
    "        map_      = self.bitmap.copy()\n",
    "        fade      = np.linspace(c0, c1, num=length)\n",
    "        \n",
    "        for i in range(length):\n",
    "            map_[path[i]] = fade[i]\n",
    "            \n",
    "        map_[self.start] = c0\n",
    "        map_[self.goal]  = c1\n",
    "        \n",
    "        print(f\"path length: {len(path)}\")\n",
    "        plt.imshow(map_)"
   ]
  },
  {
   "cell_type": "code",
   "execution_count": 3,
   "metadata": {},
   "outputs": [
    {
     "data": {
      "image/png": "[encoded data removed]",
      "text/plain": [
       "<Figure size 432x288 with 1 Axes>"
      ]
     },
     "metadata": {
      "needs_background": "light"
     },
     "output_type": "display_data"
    }
   ],
   "source": [
    "shapex = 5\n",
    "shapey = 10\n",
    "start  = (4, 0)\n",
    "goal   = (4, 9)\n",
    "holes  = [(4, 1), (4, 2), (4, 3), (4, 4), (4, 5), (4, 6), (4, 7), (4, 8)]\n",
    "#, (3, 5), (2, 5), (2, 4), (2, 3), (2, 7), (1, 7)]\n",
    "\n",
    "cliff  = Cliff(shapex, shapey, holes, start, goal)\n",
    "cliff.show_bitmap()"
   ]
  },
  {
   "cell_type": "markdown",
   "metadata": {},
   "source": [
    "# Setup"
   ]
  },
  {
   "cell_type": "code",
   "execution_count": 4,
   "metadata": {},
   "outputs": [],
   "source": [
    "moves    = [(-1, -1), (-1, 0), (-1, 1), (0, -1), (0, 1), (1, -1), (1, 0), (1, 1)]\n",
    "move_idx = {moves[i] : i for i in range(len(moves))}"
   ]
  },
  {
   "cell_type": "code",
   "execution_count": 5,
   "metadata": {},
   "outputs": [],
   "source": [
    "def move(map_, pos, act):\n",
    "    '''\n",
    "    map_   : Cliff           : Environment\n",
    "    pos    : tuple(int, int) : Position in Environment\n",
    "    act    : tuple(int, int) : Move direction\n",
    "    \n",
    "    Move from pos in direction act\n",
    "    \n",
    "    newpos : tuple(int, int) : New position\n",
    "    '''\n",
    "    \n",
    "    fallen = False\n",
    "    \n",
    "    # Clamp values to map\n",
    "    x_pos  = int(max(0, min(map_.shapex - 1, pos[0] + act[0])))\n",
    "    y_pos  = int(max(0, min(map_.shapey - 1, pos[1] + act[1])))\n",
    "    newpos = (x_pos, y_pos)\n",
    "    \n",
    "    # Reset position if falling in hole\n",
    "    if newpos in map_.holes:\n",
    "        newpos = map_.start\n",
    "        fallen = True\n",
    "    \n",
    "    return newpos, fallen"
   ]
  },
  {
   "cell_type": "markdown",
   "metadata": {},
   "source": [
    "# n-Step TD"
   ]
  },
  {
   "cell_type": "code",
   "execution_count": 6,
   "metadata": {},
   "outputs": [],
   "source": [
    "def get_neighbors(map_, pos):\n",
    "    '''\n",
    "    map_      : Cliff                 : Environment\n",
    "    pos       : tuple(int, int)       : Position in Environment\n",
    "    \n",
    "    Get neighboring states of position pos\n",
    "    \n",
    "    neighbors : list(tuple(int, int)) : list of positions\n",
    "    '''\n",
    "    global moves\n",
    "    \n",
    "    neighbors = []\n",
    "    \n",
    "    for act in moves:\n",
    "        neighbors.append(move(map_, pos, act)[0])\n",
    "    \n",
    "    return neighbors"
   ]
  },
  {
   "cell_type": "code",
   "execution_count": 7,
   "metadata": {},
   "outputs": [],
   "source": [
    "def epsilon_greedy_policy_V(V, map_, pos, epsilon=0.1):\n",
    "    '''\n",
    "    V         : 2d np.array(), float : State values\n",
    "    map_      : Cliff                : Environment\n",
    "    pos       : tuple(int, int)      : Position in Environment\n",
    "    epsilon   : float in [0, 1]      : Exploration / Exploitation Parameter\n",
    "    \n",
    "    Epsilon Greedy Policy. For a low epsilon value : high exploitation, low exploration\n",
    "    \n",
    "              : tuple(int, int)      : Decided Action according to policy\n",
    "    '''\n",
    "    \n",
    "    global moves\n",
    "    \n",
    "    act_i = None\n",
    "    r     = np.random.rand()\n",
    "    \n",
    "    neighbors   = get_neighbors(map_, pos)\n",
    "    V_neighbors = [V[n_pos] for n_pos in neighbors]\n",
    "    \n",
    "    if r > epsilon:\n",
    "        act_i = np.argmax(V_neighbors)\n",
    "    else:\n",
    "        act_i = np.random.randint(len(moves))\n",
    "        \n",
    "    return moves[act_i]"
   ]
  },
  {
   "cell_type": "code",
   "execution_count": 8,
   "metadata": {},
   "outputs": [],
   "source": [
    "def n_step_td(map_, alpha, n, episodes, epsilon=0.1, gamma=1):\n",
    "    '''\n",
    "    alpha    : float in (0, 1]      : Learning rate\n",
    "    n        : int                  : How many steps ahead we look\n",
    "    episodes : int                  : Amount of episodes we train for\n",
    "    epsilon  : float in [0, 1]      : Epsilon parameter for epsilon-greedy policy\n",
    "    gamma    : float in [0, 1]      : Discount rate\n",
    "     \n",
    "    n-step temporal difference method to estimate V\n",
    "    \n",
    "    V        : 2d np.array(), float : State values\n",
    "    '''\n",
    "    \n",
    "    V = np.zeros((map_.shapex, map_.shapey))\n",
    "    \n",
    "    for episode in range(episodes):\n",
    "        t = 0\n",
    "        s = map_.start\n",
    "        \n",
    "        T = np.inf\n",
    "        S = [s]\n",
    "        R = []\n",
    "        \n",
    "        while True:\n",
    "            # Take next step\n",
    "            if t < T:\n",
    "                A          = epsilon_greedy_policy_V(V, map_, s, epsilon=epsilon)\n",
    "                sn, fallen = move(map_, s, A)\n",
    "                \n",
    "                r = -1\n",
    "                if fallen:\n",
    "                    r = -100\n",
    "                elif sn == map_.goal:\n",
    "                    r = 0\n",
    "                    T = t + 1\n",
    "                \n",
    "                S.append(sn)\n",
    "                R.append(r)\n",
    "                s = sn\n",
    "            \n",
    "            # Time which will get updated this step \n",
    "            tau = t - n + 1\n",
    "            \n",
    "            # Update State Values\n",
    "            if tau >= 0:\n",
    "                \n",
    "                G = sum([gamma**(i - tau - 1) * R[i] for i in range(tau + 1, min(tau + n, T))])\n",
    "                \n",
    "                if tau + n < T:\n",
    "                    G += gamma**n * V[S[tau + n]]\n",
    "                    \n",
    "                V[S[tau]] += alpha * (G - V[S[tau]])\n",
    "            \n",
    "            t += 1\n",
    "            \n",
    "            # Episode over\n",
    "            if tau == T - 1:\n",
    "                break\n",
    "    \n",
    "    return V"
   ]
  },
  {
   "cell_type": "code",
   "execution_count": 9,
   "metadata": {},
   "outputs": [],
   "source": [
    "def trace_V(map_, V):\n",
    "    '''\n",
    "    map_    : Cliff                 : Current environment\n",
    "    V       : 2d np.array(), float  : State values\n",
    "    \n",
    "    Records Greedy Path from Cliff.start\n",
    "    \n",
    "    path    : list(tuple(int, int)) : States visited'''\n",
    "    \n",
    "    global moves\n",
    "    \n",
    "    S = map_.start\n",
    "    A = epsilon_greedy_policy_V(V, map_, S, epsilon=0.0)\n",
    "    path = []\n",
    "    \n",
    "    while S != map_.goal:\n",
    "        path.append(S)\n",
    "        Sn, _ = move(map_, S, A)\n",
    "        An = epsilon_greedy_policy_V(V, map_, Sn, epsilon=0.0)\n",
    "        S  = Sn\n",
    "        A  = An\n",
    "        \n",
    "        if Sn == map_.start or Sn in path:\n",
    "            print(\"State Values dont create greedy path\")\n",
    "            break\n",
    "    \n",
    "    return path"
   ]
  },
  {
   "cell_type": "markdown",
   "metadata": {},
   "source": [
    "## n-Step TD Results"
   ]
  },
  {
   "cell_type": "markdown",
   "metadata": {},
   "source": [
    "### n=2, 2000 Episodes\n",
    "Suboptimal, but at least we can traverse V with a simple greedy policy"
   ]
  },
  {
   "cell_type": "code",
   "execution_count": 10,
   "metadata": {
    "scrolled": false
   },
   "outputs": [
    {
     "name": "stdout",
     "output_type": "stream",
     "text": [
      "path length: 10\n"
     ]
    },
    {
     "data": {
      "image/png": "[encoded data removed]",
      "text/plain": [
       "<Figure size 432x288 with 1 Axes>"
      ]
     },
     "metadata": {
      "needs_background": "light"
     },
     "output_type": "display_data"
    }
   ],
   "source": [
    "V    = n_step_td(cliff, 0.5, 2, 2000)\n",
    "path = trace_V(cliff, V)\n",
    "cliff.show_path(path)"
   ]
  },
  {
   "cell_type": "code",
   "execution_count": 11,
   "metadata": {},
   "outputs": [
    {
     "data": {
      "text/plain": [
       "<matplotlib.image.AxesImage at 0x7f5c6d0ee520>"
      ]
     },
     "execution_count": 11,
     "metadata": {},
     "output_type": "execute_result"
    },
    {
     "data": {
      "image/png": "[encoded data removed]",
      "text/plain": [
       "<Figure size 432x288 with 1 Axes>"
      ]
     },
     "metadata": {
      "needs_background": "light"
     },
     "output_type": "display_data"
    }
   ],
   "source": [
    "plt.imshow(V)"
   ]
  },
  {
   "cell_type": "markdown",
   "metadata": {},
   "source": [
    "# n-Step SARSA"
   ]
  },
  {
   "cell_type": "code",
   "execution_count": 12,
   "metadata": {},
   "outputs": [],
   "source": [
    "def epsilon_greedy_policy_Q(Q, map_, pos, epsilon=0.1):\n",
    "    '''\n",
    "    Q         : 3d np.array(), float : State-Action values\n",
    "    map_      : Cliff                : Environment\n",
    "    pos       : tuple(int, int)      : Position in Environment\n",
    "    epsilon   : float in [0, 1]      : Exploration / Exploitation Parameter\n",
    "    \n",
    "    Epsilon Greedy Policy. For a low epsilon value : high exploitation, low exploration\n",
    "    \n",
    "              : tuple(int, int)      : Decided Action according to policy\n",
    "    '''\n",
    "    \n",
    "    global moves\n",
    "    \n",
    "    act_i = None\n",
    "    r     = np.random.rand()\n",
    "        \n",
    "    if r > epsilon:\n",
    "        act_i = np.argmax(Q[pos])\n",
    "    else:\n",
    "        act_i = np.random.randint(len(moves))\n",
    "        \n",
    "    return moves[act_i]"
   ]
  },
  {
   "cell_type": "code",
   "execution_count": 13,
   "metadata": {},
   "outputs": [],
   "source": [
    "def n_step_sarsa(map_, alpha, n, episodes, epsilon=0.1, gamma=1):\n",
    "    '''\n",
    "    alpha    : float in (0, 1]      : Learning rate\n",
    "    n        : int                  : How many steps ahead we look\n",
    "    episodes : int                  : Amount of episodes we train for\n",
    "    epsilon  : float in [0, 1]      : Epsilon parameter for epsilon-greedy policy\n",
    "    gamma    : float in [0, 1]      : Discount rate\n",
    "     \n",
    "    n-step temporal difference method to estimate V\n",
    "    \n",
    "    Q        : 3d np.array(), float : State-Action values\n",
    "    '''\n",
    "    \n",
    "    global moves\n",
    "    \n",
    "    Q = np.zeros((map_.shapex, map_.shapey, len(moves)))\n",
    "    \n",
    "    for episode in range(episodes):\n",
    "        t = 0\n",
    "        s = map_.start\n",
    "        \n",
    "        T = np.inf\n",
    "        S = [s]\n",
    "        R = []\n",
    "        A = [epsilon_greedy_policy_Q(Q, map_, s, epsilon=epsilon)]\n",
    "        \n",
    "        while True:\n",
    "            # Take next step\n",
    "            if t < T:\n",
    "                sn, fallen = move(map_, s, A[-1])\n",
    "                \n",
    "                r = -1\n",
    "                if fallen:\n",
    "                    r = -100\n",
    "                    \n",
    "                if sn == map_.goal:\n",
    "                    r = 0\n",
    "                    T = t + 1\n",
    "                else:\n",
    "                    A.append(epsilon_greedy_policy_Q(Q, map_, sn, epsilon=epsilon))\n",
    "                \n",
    "                S.append(sn)\n",
    "                R.append(r)\n",
    "                s = sn\n",
    "            \n",
    "            # Time which will get updated this step \n",
    "            tau = t - n + 1\n",
    "            \n",
    "            # Update State Values\n",
    "            if tau >= 0:\n",
    "                \n",
    "                G = sum([gamma**(i - tau - 1) * R[i] for i in range(tau + 1, min(tau + n, T))])\n",
    "                \n",
    "                if tau + n < T:\n",
    "                    idx_tn = (S[tau + n][0], S[tau + n][1], move_idx[A[tau + n]])\n",
    "                    G += gamma**n * Q[idx_tn]\n",
    "                    \n",
    "                idx_t = (S[tau][0], S[tau][1], move_idx[A[tau]])\n",
    "                Q[idx_t] += alpha * (G - Q[idx_t])\n",
    "            \n",
    "            t += 1\n",
    "            \n",
    "            # Episode over\n",
    "            if tau == T - 1:\n",
    "                break\n",
    "    \n",
    "    return Q"
   ]
  },
  {
   "cell_type": "code",
   "execution_count": 14,
   "metadata": {},
   "outputs": [],
   "source": [
    "def trace_Q(map_, Q):\n",
    "    '''\n",
    "    map_    : Cliff                 : Current environment\n",
    "    Q       : 3d np.array(), float  : State-Action values\n",
    "    \n",
    "    Records Greedy Path from grid-start\n",
    "    \n",
    "    path    : list(tuple(int, int)) : States visited until termination\n",
    "    '''\n",
    "    \n",
    "    global moves\n",
    "    \n",
    "    S = map_.start\n",
    "    A = moves[np.argmax(Q[S])]\n",
    "    path = []\n",
    "    \n",
    "    while S != map_.goal:\n",
    "        path.append(S)\n",
    "        Sn, _ = move(map_, S, A)\n",
    "        An    = moves[np.argmax(Q[Sn])]\n",
    "        S     = Sn\n",
    "        A     = An\n",
    "        \n",
    "        if Sn == map_.start or Sn in path:\n",
    "            print(\"State Values dont create greedy path\")\n",
    "            break\n",
    "    \n",
    "    return path"
   ]
  },
  {
   "cell_type": "code",
   "execution_count": 26,
   "metadata": {},
   "outputs": [
    {
     "name": "stdout",
     "output_type": "stream",
     "text": [
      "path length: 14\n"
     ]
    },
    {
     "data": {
      "image/png": "[encoded data removed]",
      "text/plain": [
       "<Figure size 432x288 with 1 Axes>"
      ]
     },
     "metadata": {
      "needs_background": "light"
     },
     "output_type": "display_data"
    }
   ],
   "source": [
    "Q    = n_step_sarsa(cliff, 0.5, 2, 8000)\n",
    "path = trace_Q(cliff, Q)\n",
    "cliff.show_path(path)"
   ]
  }
 ],
 "metadata": {
  "kernelspec": {
   "display_name": "Python 3",
   "language": "python",
   "name": "python3"
  },
  "language_info": {
   "codemirror_mode": {
    "name": "ipython",
    "version": 3
   },
   "file_extension": ".py",
   "mimetype": "text/x-python",
   "name": "python",
   "nbconvert_exporter": "python",
   "pygments_lexer": "ipython3",
   "version": "3.8.2"
  }
 },
 "nbformat": 4,
 "nbformat_minor": 4
}
